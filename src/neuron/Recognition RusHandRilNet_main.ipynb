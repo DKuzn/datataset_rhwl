{
 "nbformat": 4,
 "nbformat_minor": 0,
 "metadata": {
  "colab": {
   "name": "Recognition RusHandRilNet.ipynb",
   "provenance": [],
   "authorship_tag": "ABX9TyPyMDmWu8EQ02POveUZbNaj"
  },
  "kernelspec": {
   "name": "python3",
   "language": "python",
   "display_name": "Python 3"
  },
  "accelerator": "GPU"
 },
 "cells": [
  {
   "cell_type": "code",
   "metadata": {
    "id": "Bi0-p9rdTnFw",
    "colab_type": "code",
    "colab": {}
   },
   "source": [
    "import torch\n",
    "import random\n",
    "import numpy as np\n",
    "import matplotlib.pyplot as plt\n",
    "\n",
    "random.seed(0)\n",
    "np.random.seed(0)\n",
    "torch.manual_seed(0)\n",
    "torch.cuda.manual_seed(0)\n",
    "torch.backends.cudnn.deterministic = True"
   ],
   "execution_count": null,
   "outputs": []
  },
  {
   "cell_type": "code",
   "metadata": {
    "id": "38xMuAIHUcWD",
    "colab_type": "code",
    "colab": {}
   },
   "source": [
    "class R2HandRilNet(torch.nn.Module):\n",
    "    def __init__(self):\n",
    "        super(R2HandRilNet, self).__init__()\n",
    "\n",
    "        self.conv1 = torch.nn.Conv2d(\n",
    "            in_channels=1, out_channels=1, kernel_size=3, stride=1, padding=1)\n",
    "        self.act1 = torch.nn.ReLU()\n",
    "        self.conv2 = torch.nn.Conv2d(\n",
    "            in_channels=1,out_channels=1, kernel_size=3, stride=1, padding=1)\n",
    "        self.act2 = torch.nn.ReLU()\n",
    "        self.pool1 = torch.nn.MaxPool2d(kernel_size=2, stride=2)\n",
    "        self.act3 = torch.nn.Tanh()\n",
    "\n",
    "        self.conv3 = torch.nn.Conv2d(\n",
    "            in_channels=1, out_channels=1, kernel_size=3, stride=1, padding=1)\n",
    "        self.act4 = torch.nn.ReLU()\n",
    "        self.conv4 = torch.nn.Conv2d(\n",
    "            in_channels=1,out_channels=1, kernel_size=3, stride=1, padding=1)\n",
    "        self.act5 = torch.nn.ReLU()\n",
    "        self.pool2 = torch.nn.MaxPool2d(kernel_size=2, stride=2)\n",
    "        self.act6 = torch.nn.Tanh()\n",
    "\n",
    "        self.conv5 = torch.nn.Conv2d(\n",
    "            in_channels=1, out_channels=1, kernel_size=3, stride=1, padding=1)\n",
    "        self.act7 = torch.nn.ReLU()\n",
    "        self.conv6 = torch.nn.Conv2d(\n",
    "            in_channels=1,out_channels=1, kernel_size=3, stride=1, padding=1)\n",
    "        self.act8 = torch.nn.ReLU()\n",
    "        self.pool3 = torch.nn.MaxPool2d(kernel_size=2, stride=2)\n",
    "        self.act9 = torch.nn.Tanh()\n",
    "\n",
    "        self.conv7 = torch.nn.Conv2d(\n",
    "            in_channels=1, out_channels=1, kernel_size=3, stride=1, padding=1)\n",
    "        self.act10 = torch.nn.ReLU()\n",
    "        self.conv8 = torch.nn.Conv2d(\n",
    "            in_channels=1,out_channels=2, kernel_size=3, stride=1, padding=1)\n",
    "        self.act11 = torch.nn.ReLU()\n",
    "        self.pool4 = torch.nn.MaxPool2d(kernel_size=2, stride=2)\n",
    "        self.act12 = torch.nn.Tanh()\n",
    "\n",
    "        self.conv9 = torch.nn.Conv2d(\n",
    "            in_channels=1, out_channels=1, kernel_size=3, stride=1, padding=1)\n",
    "        self.act13 = torch.nn.ReLU()\n",
    "        self.conv10 = torch.nn.Conv2d(\n",
    "            in_channels=1,out_channels=1, kernel_size=3, stride=1, padding=1)\n",
    "        self.act14 = torch.nn.ReLU()\n",
    "        self.pool5 = torch.nn.MaxPool2d(kernel_size=2, stride=2)\n",
    "        self.act14 = torch.nn.Tanh()\n",
    "\n",
    "        self.conv11 = torch.nn.Conv2d(\n",
    "            in_channels=1, out_channels=8, kernel_size=1, stride=1, padding=0)\n",
    "        self.act15 = torch.nn.ReLU()\n",
    "\n",
    "        self.fc1 = torch.nn.Linear(8, 63)\n",
    "        self.act16 = torch.nn.ReLU()\n",
    "\n",
    "        self.fc2 = torch.nn.Linear(63, 63)\n",
    "        self.act17 = torch.nn.Softmax()\n",
    "  \n",
    "    def forward(self, x):\n",
    "\n",
    "        x = self.conv1(x)\n",
    "        x = self.act1(x)\n",
    "        x = self.conv2(x)\n",
    "        x = self.act2(x)\n",
    "        x = self.pool1(x)\n",
    "        x = self.act3(x)\n",
    "\n",
    "        x = self.conv3(x)\n",
    "        x = self.act4(x)\n",
    "        x = self.conv4(x)\n",
    "        x = self.act5(x)\n",
    "        x = self.pool2(x)\n",
    "        x = self.act6(x)\n",
    "\n",
    "        x = self.conv5(x)\n",
    "        x = self.act7(x)\n",
    "        x = self.conv6(x)\n",
    "        x = self.act8(x)\n",
    "        x = self.pool3(x)\n",
    "        x = self.act9(x)\n",
    "\n",
    "        x = self.conv7(x)\n",
    "        x = self.act10(x)\n",
    "        x = self.conv8(x)\n",
    "        x = self.act11(x)\n",
    "        x = self.pool4(x)\n",
    "        x = self.act12(x)\n",
    "\n",
    "        x = self.conv9(x)\n",
    "        x = self.act13(x)\n",
    "        x = self.conv10(x)\n",
    "        x = self.act13(x)\n",
    "        x = self.pool5(x)\n",
    "        x = self.act14(x)\n",
    "\n",
    "        x = self.conv11(x)\n",
    "        x = self.act15(x)\n",
    "\n",
    "        x = self.fc1(x)\n",
    "        x = self.act16(x)\n",
    "\n",
    "        x = self.fc2(x)\n",
    "        x = self.act17(x)\n",
    "\n",
    "        return x\n",
    "\n",
    "handrilnet = R2HandRilNet() "
   ],
   "execution_count": null,
   "outputs": []
  },
  {
   "cell_type": "code",
   "metadata": {
    "id": "E3YJ6MGEAY4G",
    "colab_type": "code",
    "colab": {}
   },
   "source": [
    "device = torch.device('cuda:0' if torch.cuda.is_available() else 'cpu')\n",
    "handrilnet = handrilnet.to(device)"
   ],
   "execution_count": null,
   "outputs": []
  },
  {
   "cell_type": "code",
   "metadata": {
    "id": "6cqqZYb1A9zW",
    "colab_type": "code",
    "colab": {}
   },
   "source": [
    "loss = torch.nn.CrossEntropyLoss()   #variable parameter\n",
    "optimizer = torch.optim.Adam(handrilnet.parameters(), lr=1.0e-3)"
   ],
   "execution_count": null,
   "outputs": []
  },
  {
   "cell_type": "code",
   "metadata": {
    "id": "AFvpODCTBnwL",
    "colab_type": "code",
    "colab": {}
   },
   "source": [
    "x_train = 0#pass\n",
    "y_train = 0#pass\n",
    "x_test = 0#pass\n",
    "y_test = 0#pass"
   ],
   "execution_count": null,
   "outputs": []
  },
  {
   "cell_type": "code",
   "metadata": {
    "id": "bwh8pUnXMMFB",
    "colab_type": "code",
    "colab": {}
   },
   "source": [
    "x_train = x_train.unsqueeze(1).float()\n",
    "x_test = x_test.unsqueeze(1).float()"
   ],
   "execution_count": null,
   "outputs": []
  },
  {
   "cell_type": "code",
   "metadata": {
    "id": "u260fxCFTsvs",
    "colab_type": "code",
    "colab": {}
   },
   "source": [
    "x_train.shape()"
   ],
   "execution_count": null,
   "outputs": []
  },
  {
   "cell_type": "code",
   "metadata": {
    "id": "hDF62bWfKqpy",
    "colab_type": "code",
    "colab": {}
   },
   "source": [
    "batch_size = 10\n",
    "\n",
    "test_accuracy_history = []\n",
    "test_loss_history = []\n",
    "\n",
    "x_test = x_test.to(device)\n",
    "y_test = y_test.to(device)\n",
    "\n",
    "for epoch in range(5000):\n",
    "    order = np.random.permutation(len(x_train))\n",
    "    for start_index in range(0, len(x_train), batch_size):\n",
    "        optimizer.zero_grad()\n",
    "\n",
    "        batch_indexes = order[start_index:start_index+batch_size]\n",
    "\n",
    "        x_batch = x_train[batch_indexes].to(device)\n",
    "        y_batch = y_train[batch_indexes].to(device)\n",
    "\n",
    "        preds = handrilnet.forward(x_batch)\n",
    "\n",
    "        loss_value = loss(preds, y_batch)\n",
    "        loss_value.backward()\n",
    "\n",
    "        optimizer.step()\n",
    "\n",
    "    test_preds = handrilnet.forward(x_test)\n",
    "    test_loss_history.append(loss(test_preds, y_test).to(device))\n",
    "\n",
    "    accuracy = (test_preds.argmax(dim=1) == y_test).float().mean().to(device)\n",
    "    test_accuracy_history.append(accuracy)\n",
    "\n",
    "    print(accuracy)"
   ],
   "execution_count": null,
   "outputs": []
  },
  {
   "cell_type": "code",
   "metadata": {
    "id": "zQwreWgbTAw7",
    "colab_type": "code",
    "colab": {}
   },
   "source": [
    "handrilnet.forward(x_test)"
   ],
   "execution_count": null,
   "outputs": []
  },
  {
   "cell_type": "code",
   "metadata": {
    "id": "tGE4m-wsTOdF",
    "colab_type": "code",
    "colab": {}
   },
   "source": [
    "plt.plot(test_accuracy_history)\n",
    "# plt.plot(test_loss_history)"
   ],
   "execution_count": null,
   "outputs": []
  }
 ]
}